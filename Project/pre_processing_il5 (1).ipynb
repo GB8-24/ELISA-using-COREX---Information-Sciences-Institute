{
 "cells": [
  {
   "cell_type": "code",
   "execution_count": 1,
   "metadata": {},
   "outputs": [
    {
     "name": "stderr",
     "output_type": "stream",
     "text": [
      "C:\\Users\\Gaurav\\Anaconda3\\lib\\site-packages\\gensim\\utils.py:860: UserWarning: detected Windows; aliasing chunkize to chunkize_serial\n",
      "  warnings.warn(\"detected Windows; aliasing chunkize to chunkize_serial\")\n"
     ]
    }
   ],
   "source": [
    "import pandas as pd\n",
    "import numpy as np \n",
    "import matplotlib.pyplot as plt\n",
    "import gensim\n",
    "import string\n",
    "import re"
   ]
  },
  {
   "cell_type": "code",
   "execution_count": 5,
   "metadata": {},
   "outputs": [],
   "source": [
    "# read .txt file line by line, split by tab(\\t)\n",
    "list_data=[]\n",
    "with open('C:\\\\Users\\\\Gaurav\\\\Desktop\\\\ISI forms\\\\Project\\\\il5_uromo.txt',encoding='utf8',errors='ignore') as fp:\n",
    "    for line in fp:\n",
    "        list_data.append(line.split('\\t'))\n",
    "    \n",
    "    \n",
    "    "
   ]
  },
  {
   "cell_type": "code",
   "execution_count": 7,
   "metadata": {
    "scrolled": true
   },
   "outputs": [],
   "source": [
    "# name the columns of datframe\n",
    "raw_data = pd.DataFrame(list_data,columns=['doc_id','text_data','class_type']) "
   ]
  },
  {
   "cell_type": "code",
   "execution_count": 8,
   "metadata": {},
   "outputs": [
    {
     "data": {
      "text/html": [
       "<div>\n",
       "<style>\n",
       "    .dataframe thead tr:only-child th {\n",
       "        text-align: right;\n",
       "    }\n",
       "\n",
       "    .dataframe thead th {\n",
       "        text-align: left;\n",
       "    }\n",
       "\n",
       "    .dataframe tbody tr th {\n",
       "        vertical-align: top;\n",
       "    }\n",
       "</style>\n",
       "<table border=\"1\" class=\"dataframe\">\n",
       "  <thead>\n",
       "    <tr style=\"text-align: right;\">\n",
       "      <th></th>\n",
       "      <th>doc_id</th>\n",
       "      <th>text_data</th>\n",
       "      <th>class_type</th>\n",
       "    </tr>\n",
       "  </thead>\n",
       "  <tbody>\n",
       "    <tr>\n",
       "      <th>0</th>\n",
       "      <td>IL5_SN_000370_20170213_H0T00370Z</td>\n",
       "      <td>#Eritrea #ارتريا ባዓል ፈንቅል ኣብ ከተማ ሮተርዳም ፳፻፲፯ – ...</td>\n",
       "      <td>nondomain\\n</td>\n",
       "    </tr>\n",
       "    <tr>\n",
       "      <th>1</th>\n",
       "      <td>IL5_WL_020506_20160616_H0040MDW3</td>\n",
       "      <td>ሰበ ስልጣን ስርዓት ኢህወደግ ኣብ ጐኒ ውድብ ብኣዴን ተሰሊፎም ንዝተቓለሱ...</td>\n",
       "      <td>unk\\n</td>\n",
       "    </tr>\n",
       "  </tbody>\n",
       "</table>\n",
       "</div>"
      ],
      "text/plain": [
       "                             doc_id  \\\n",
       "0  IL5_SN_000370_20170213_H0T00370Z   \n",
       "1  IL5_WL_020506_20160616_H0040MDW3   \n",
       "\n",
       "                                           text_data   class_type  \n",
       "0  #Eritrea #ارتريا ባዓል ፈንቅል ኣብ ከተማ ሮተርዳም ፳፻፲፯ – ...  nondomain\\n  \n",
       "1  ሰበ ስልጣን ስርዓት ኢህወደግ ኣብ ጐኒ ውድብ ብኣዴን ተሰሊፎም ንዝተቓለሱ...        unk\\n  "
      ]
     },
     "execution_count": 8,
     "metadata": {},
     "output_type": "execute_result"
    }
   ],
   "source": [
    "raw_data.head(2)"
   ]
  },
  {
   "cell_type": "code",
   "execution_count": 9,
   "metadata": {},
   "outputs": [
    {
     "data": {
      "text/plain": [
       "unk\\n              3505\n",
       "nondomain\\n         837\n",
       "indomain\\n          467\n",
       "eval_incident\\n     160\n",
       "Name: class_type, dtype: int64"
      ]
     },
     "execution_count": 9,
     "metadata": {},
     "output_type": "execute_result"
    }
   ],
   "source": [
    "raw_data.class_type.value_counts()"
   ]
  },
  {
   "cell_type": "code",
   "execution_count": 10,
   "metadata": {
    "collapsed": true
   },
   "outputs": [],
   "source": [
    "# strip columns for leading and trailing white spaces\n",
    "raw_data['doc_id']=raw_data.doc_id.str.strip()\n",
    "raw_data['text_data']=raw_data.text_data.str.strip()\n",
    "raw_data['class_type']=raw_data['class_type'].str.strip()"
   ]
  },
  {
   "cell_type": "code",
   "execution_count": 11,
   "metadata": {},
   "outputs": [
    {
     "data": {
      "text/plain": [
       "(4969, 3)"
      ]
     },
     "execution_count": 11,
     "metadata": {},
     "output_type": "execute_result"
    }
   ],
   "source": [
    "raw_data.shape"
   ]
  },
  {
   "cell_type": "code",
   "execution_count": 12,
   "metadata": {
    "collapsed": true
   },
   "outputs": [],
   "source": [
    "# set doc_id as index\n",
    "raw_data= raw_data.set_index('doc_id')\n",
    "# change \"class_type\" column to categorical datatype\n",
    "raw_data['class_type'] = raw_data['class_type'].astype('category')"
   ]
  },
  {
   "cell_type": "code",
   "execution_count": 13,
   "metadata": {},
   "outputs": [
    {
     "data": {
      "image/png": "[encoded data removed]",
      "text/plain": [
       "<matplotlib.figure.Figure at 0x1b61b756c18>"
      ]
     },
     "metadata": {},
     "output_type": "display_data"
    }
   ],
   "source": [
    "# Class Count\n",
    "#raw_data['class_type'].value_counts(dropna=False)\n",
    "plt.hist('class_type',data=raw_data)\n",
    "plt.show()"
   ]
  },
  {
   "cell_type": "code",
   "execution_count": 14,
   "metadata": {
    "collapsed": true
   },
   "outputs": [],
   "source": [
    "# http links removal on 'text_data' column\n",
    "\n",
    "# regex : ((http|https)://t.co/[a-zA-Z0-9]+)\n",
    "\n",
    "import re\n",
    "raw_data['text_data'] = raw_data['text_data'].apply(lambda x: re.sub('((http|https)://t.co/[a-zA-Z0-9]+)','',x))"
   ]
  },
  {
   "cell_type": "code",
   "execution_count": 15,
   "metadata": {},
   "outputs": [
    {
     "data": {
      "text/plain": [
       "'ህቡብ ስነጥበባዊ ኣቶ ትካቦ ወልደማርያም ዓሪፎም ፣ ሎሚ ሓመድ ኣዳም ለቢሶም #Eritrea '"
      ]
     },
     "execution_count": 15,
     "metadata": {},
     "output_type": "execute_result"
    }
   ],
   "source": [
    "raw_data.loc['IL5_SN_000370_20160628_H0T000Y2W','text_data']\n"
   ]
  },
  {
   "cell_type": "code",
   "execution_count": 16,
   "metadata": {
    "collapsed": true
   },
   "outputs": [],
   "source": [
    "#punctuation removal on 'text_data' column\n",
    "#print(string.punctuation)\n",
    "punct='!\"$%&()*+,-./:;<=>?[\\]^_`{|}~'+\"'\"\n",
    "#print(punct)\n",
    "regex = re.compile('[%s]' % re.escape(punct))\n",
    "\n",
    "raw_data['text_data'] = raw_data['text_data'].apply(lambda x: regex.sub('', x))\n",
    "raw_data['text_data']=raw_data.text_data.str.strip()"
   ]
  },
  {
   "cell_type": "code",
   "execution_count": 26,
   "metadata": {},
   "outputs": [],
   "source": [
    "raw_data=raw_data.reset_index()"
   ]
  },
  {
   "cell_type": "code",
   "execution_count": 28,
   "metadata": {},
   "outputs": [
    {
     "data": {
      "text/plain": [
       "0       #Eritrea #ارتريا ባዓል ፈንቅል ኣብ ከተማ ሮተርዳም ፳፻፲፯ – ...\n",
       "1       ሰበ ስልጣን ስርዓት ኢህወደግ ኣብ ጐኒ ውድብ ብኣዴን ተሰሊፎም ንዝተቓለሱ...\n",
       "2       መብርሂ ኣምባሳደር ግርማ ኣስመሮም ንወተሃደራዊ ጸብጻብ ኤርትራ ኣብ ዝተኻ...\n",
       "3       ትላንት ምሽት በትግራይ ክልል በጣለው ዝናብ ምክንያት የመኪና አደጋ በመድ...\n",
       "4       ህግደፍ ፡ ዳግማይ ገንዘብ ህዝቢ ይዘምት  Undue control of pr...\n",
       "5       “ 800000 ስደተኛታት ን ኤሮጳ ክሰግሩ ኣብ ሊብያ ተኣኪቦም ኣለዉ ” ...\n",
       "6       BREAKING ፕት ዶር ሙላቱ ለ8 አምባሳደሮች ሹመት ሰጡ ሬድዋን ሁሴን ...\n",
       "7       ኣህጉራዊ መዓልቲ ምጥፋእ መሃይምነት ኣብ ኣስመራ ኤርትራ 8መስከረም ተዘኪ...\n",
       "8                             በኮሜዲያን ቶማስ አዳዲስ ቀልዶች ዘና ይበሉ\n",
       "9       ፕረዝደንት ኦባማ ዝዓበየ ሽልማት መዳልያ ነጻነት ሂቦም  #Obama #Wh...\n",
       "10      ኣብ ክልል ትግራይ ዞባ ደቡብ ወረዳ ኣላማጣ ዝርከቡ ገባራት ብድርቂ ንዝተ...\n",
       "11      RT@Reuters Burundi army officer says dismisses...\n",
       "12                 ቻይናዊት ከተማ ናንጂንግ ናይ ዱር ህንጻ ክሃንጽ እያ ኢላ ።\n",
       "13      ተጋዳላይ መለስ ዜናዊ 11ለካቲት 1984 ዓም ኣብ ከተማ መቐለ እንትኽበር...\n",
       "14      ብሓሮ ብሓሮ ብሌና ብሌና ረድዮ ረድዮ ሎዛን ሎዛን ስዊስትል ስዊስትል ዕለ...\n",
       "15      ከቢድ ተኩስ ድምጺ ነታጉን ንከተማ ሞቃዲሾ የናውጽ  ኣብ ርእሰ ከተማ ሶማ...\n",
       "16      ፅንዓት ይሃብ         ኣባላት  ማርሽ ባንድ ትግራይ  ኣብ ኣኽሱም ኣ...\n",
       "17      የካቲት 32009 ህዝብን ለመካስ መዘጋጀታቸውን የመንግስት ሰራተኞች ገለጹ...\n",
       "18      የካቲት ፩  አንድ  ቀን ፳፻፱ ዓም ኢሳት ዜና  ከሁለት ሳምንት በፊት በ...\n",
       "19          ከራድዮን ማሕበር ተራድኦ ኣረጋውያን ንጽጉማት ኣረጋውያን ሓገዝ የበርክት\n",
       "20      ማስታወሻ ለወሮ አለምፀሃይ ኤልያስ የአአ ከተማ መስተዳደር ሴቶችና ህፃናት...\n",
       "21      ሰሞኑን በአንዳንድ ቦታ ጠንከር ያለ ውጊያ እንደተካሄደ፤እንድሁም 90 ሰው...\n",
       "22      የኦሮሞ ብሔረሰብ አስተዳደር ከፍተኛ ፍቤት በስሩ የሚገኙ አምስት ወረዳ ፍ...\n",
       "23      ነታጕ  ኣብ ሓንቲ ስድራ ከተማ ዓዲ ግራት ዝሓደጐ በሰላ  ወይዘሮ መብራት...\n",
       "24      #StillSanders #BernieOrBust @People4Bernie @Be...\n",
       "25                   ሚሊዮን አበበ  መን እያ  አዲስ የሙዚቃ ክሊፕ ተጋበዙልን\n",
       "26      ስሙር ድምጺ ሃገርና ንምድሓን እታ ልሳን ህግደፍ ዝኾነት ጋዜጣ ሓዳስ ኤር...\n",
       "27      ፍቅሪን ግርማን ፍቅሪ ጠበንጃ እዩ ፡፡ ኣደ መሰፍቀረት በጃ ውላድ ትሓልፍ...\n",
       "28      ጎንደር  ሆቴሎምን መንበሪ ገዝኦምን ዝተዘርፎምን ዝዓነዎምን ነባሪ  መፅለ...\n",
       "29      ፀለመን ጠቐነን ዝበዝሖ ዋላ ተኾነ እውን ግን እስቲ ኣንብብዎ እሞ ዝተሓዝ...\n",
       "                              ...                        \n",
       "4939    I liked a @YouTube video  HOT ETHIOPIAN MUSIC ...\n",
       "4940    መንግስቲ ኤርትራ ብዝተፈላለየ ምኽንያት ኣደስኪሉዎም ዝጸንሐ ፡ ብዕድመ ዝ...\n",
       "4941    “ ሁለቱ የማንችስተር ከተማ ክለቦች የሊጉ ዋንጫ አሸናፊ የመሆናቸው ነገር...\n",
       "4942    ኣትለት ፈይሳ ለሊሳ ንመግለጺ መንግስቲ ብምእማን ከይምለስ ስድራቤቱ ኣጠን...\n",
       "4943    Ethioclip latest ethiopian movies  ethiopian m...\n",
       "4944    ጽንብል ነጻነት 24 ግንቦት ፡ መዳመቒት ባይታ ውሑዳት ክትከውን ኣይግባእ...\n",
       "4945    ብኣማኢት ዝቑጸሩ ፍልሰተኛታት ዶብ ስጳኛ ሰጊሮም ንምእታው ፈቲኖም  #Er...\n",
       "4946    መንግስቲ ኢትዮጵያ ዓለምለኸ ለገስቲ ብደርቂ ንዝተጎድኡ ሓገዝ ክህቡ ጸዊዑ...\n",
       "4947    Updated  ኣብ ኣኼባ መራሕቲ ሃገራት ኣፍሪቃ ክሳተፍ ደቡብ ኣፍሪቃ ም...\n",
       "4948    አፍሪቃዊያን ተላዘብቲ ዛዕባ ለውጢ ክሊማ ፓሪስ ዕውት ኽከውንዩ ይብሉ ዋሽ...\n",
       "4949    ኣባል ሕርይቲ ጋንታታ ኩዕሶ እግሪ ኤርትራን ኢትዮጵያን ገዲም ተጻዋታይ ኩ...\n",
       "4950    ፀረ ኢትዮጵያ ኣሸባሪዋች የሚፈለፈሉበት ሻዕብያ እስካለ ድረስ በኢትዮጵያ ...\n",
       "4951    መንግስቲ ህግደፍ ናብ ጀኔቭ ካብ ዝለኣኾም ሰለስተ ጋዜጠኛታት ሓደ ነቲ ስ...\n",
       "4952    VIDEO  ኣብ ባማኮ  ርእሰ ከተማ ማሊ መጥቃዕቲ ግብረሽበራ ኣብ ሆቴል ...\n",
       "4953    ኣመንቲ እስልምና መላእ ዓለም ብስዑዲ ዓረብ ንዝተወስደ ስጉምቲ መቕተልቲ ...\n",
       "4954    ተጋሩና 1  ምርኢት ስእሊ ኣብ ከተማ መቐለ  እቲ ምርኢት ስእሊ ኣብ ከተ...\n",
       "4955    ተመስገን ጎይታ ልዕል በል ፍቃደኛ ዝኾንካ ስለና ክትስቀል ትሕት ዝበልካ ...\n",
       "4956    ኣኼባ ኤርትራውያን ደለይቲ ፍትሒ ሰያትልን ከባቢኣን  gview fileht...\n",
       "4957                          RT @simoninou #Eritrea 1973\n",
       "4958    RT @leonardvincent #Eritreas fugitives called ...\n",
       "4959    ስእላዊ መግለጺ  ለበዳ ዚካ ቫይረስ ንዓለም የሻቅል  #ZikaVirus #...\n",
       "4960    ጉባኤ ሃይማኖታዊ መራሕቲ ኢትዮጵያ ኣብቲ ጉባኤ ዝተላዕለ ሓሳባት ናብ መን...\n",
       "4961              በአርባምንጭ ከተማ የስፖርት ሜዳ ላይ የተቃውሞ ወረቀት ተበተነ\n",
       "4962    ትማሊ ኣብ ጋምቤላ 14 ዝተቐተልሉ መጥቃዕቲ ዘስካሕክሕዩ ኢሎም መሰኻኽር ...\n",
       "4963    ዙር ቩየልታ ስጳኛ ብዓወት ኮሎምብያዊ ናይሮ ኲንታና ትማሊ ተዛዚሙ  #Er...\n",
       "4964    ኣማሓደርቲ ወረዳ ከተማ ሸራሮ ኣብ ትሕቲኦም ኮይኖም ከገልግልዎም ዝፀንሑ ...\n",
       "4965    የደራው ጨዋታ  ልጅቷን በኦፔል መኪና ጠለፍናት ፤ ተሸክሜያት መኝታ ቤት ...\n",
       "4966    RT @asmarinoen #eritrea ገበናውያን ኣብ ዓለም ይቃልሑ ። ጭ...\n",
       "4967    ውዕሎ ላዕለዋይ ሊግ ጋንታታት ትግራይ ዕለተ ሰንበት ብኸምዚ ተዛዚሙ ። ስ...\n",
       "4968    ቅድሚ ምዃኑ እንተዝኸውን ብ30 ጥሪ 2016 ሓደ ንደለይቲ ደሞክራስያዊ ለ...\n",
       "Name: text_data, Length: 4969, dtype: object"
      ]
     },
     "execution_count": 28,
     "metadata": {},
     "output_type": "execute_result"
    }
   ],
   "source": [
    "raw_data.text_data"
   ]
  },
  {
   "cell_type": "code",
   "execution_count": 18,
   "metadata": {
    "collapsed": true
   },
   "outputs": [],
   "source": [
    "# drop documents with less n words"
   ]
  },
  {
   "cell_type": "code",
   "execution_count": 19,
   "metadata": {
    "collapsed": true
   },
   "outputs": [],
   "source": [
    "#train test split # stratified sampling"
   ]
  },
  {
   "cell_type": "code",
   "execution_count": 20,
   "metadata": {
    "collapsed": true
   },
   "outputs": [],
   "source": [
    "#smiley removal"
   ]
  },
  {
   "cell_type": "code",
   "execution_count": null,
   "metadata": {
    "collapsed": true
   },
   "outputs": [],
   "source": []
  }
 ],
 "metadata": {
  "kernelspec": {
   "display_name": "Python 3",
   "language": "python",
   "name": "python3"
  },
  "language_info": {
   "codemirror_mode": {
    "name": "ipython",
    "version": 3
   },
   "file_extension": ".py",
   "mimetype": "text/x-python",
   "name": "python",
   "nbconvert_exporter": "python",
   "pygments_lexer": "ipython3",
   "version": "3.6.3"
  }
 },
 "nbformat": 4,
 "nbformat_minor": 2
}
